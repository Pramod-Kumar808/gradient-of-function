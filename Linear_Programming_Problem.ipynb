{
 "cells": [
  {
   "cell_type": "raw",
   "id": "partial-report",
   "metadata": {},
   "source": [
    "Write a python code asks the user the co-ordinates of the point and provide the components of the gradient of the function\n",
    "f(x,y,z)= x**2(1-y) + z**3 "
   ]
  },
  {
   "cell_type": "code",
   "execution_count": 41,
   "id": "powerful-bundle",
   "metadata": {},
   "outputs": [
    {
     "name": "stdout",
     "output_type": "stream",
     "text": [
      "Partial derivative of x:  2*x*(1 - y) \n",
      "Partial derivative of y:  -x**2 \n",
      "Partial derivative of z:  3*z**2\n"
     ]
    }
   ],
   "source": [
    "from sympy import Symbol, Derivative\n",
    "\n",
    "x= Symbol('x')\n",
    "y= Symbol('y')\n",
    "z = Symbol(\"z\")\n",
    "\n",
    "# function= input(\"Enter the function: \")  #This is for asking function from the user\n",
    "function= x**2*(1-y) + z**3\n",
    "\n",
    "dt_x = Derivative(function, x)\n",
    "pd_x = dt_x.doit()\n",
    "dt_y = Derivative(function, y)\n",
    "pd_y = dt_y.doit()\n",
    "dt_z = Derivative(function, z)\n",
    "pd_z = dt_z.doit()\n",
    "print(\"Partial derivative of x: \",pd_x.doit(),\"\\nPartial derivative of y: \", pd_y.doit(),\"\\nPartial derivative of z: \", pd_z.doit())"
   ]
  },
  {
   "cell_type": "code",
   "execution_count": 42,
   "id": "devoted-walter",
   "metadata": {},
   "outputs": [
    {
     "name": "stdout",
     "output_type": "stream",
     "text": [
      "Enter the Co-ordinate points of x: -6\n",
      "Enter the Co-ordinate points of y: 9\n",
      "Enter the Co=ordinate points of z: -4\n",
      "\n",
      "\n",
      "Partial derivative of x:  2*x*(1 - y) Co-ordinate:  -6 \n",
      "Partial derivative of y:  -x**2 Co-ordinate:  9 \n",
      "Partial derivative of z:  -x**2 Co-ordinate:  9\n",
      "\n",
      "The gradient of the given Co-ordinates are:  (96, -36, 48)\n"
     ]
    }
   ],
   "source": [
    "x = int(input(\"Enter the Co-ordinate points of x: \").strip())\n",
    "y = int(input(\"Enter the Co-ordinate points of y: \").strip())\n",
    "z = int(input(\"Enter the Co=ordinate points of z: \").strip())\n",
    "print(\"\\n\")\n",
    "\n",
    "def gradient(x,y,z):\n",
    "    grad_x = 2*x*(1-y)\n",
    "    grad_y = -x**2\n",
    "    grad_z = 3*z**2\n",
    "    print(\"Partial derivative of x: \",pd_x, \"Co-ordinate: \",x,\"\\nPartial derivative of y: \",pd_y,\"Co-ordinate: \",y,\"\\nPartial derivative of z: \",pd_y,\"Co-ordinate: \",y)\n",
    "    return grad_x,grad_y,grad_z\n",
    "    \n",
    "print(\"\\nThe gradient of the given Co-ordinates are: \",gradient(x,y,z))"
   ]
  },
  {
   "cell_type": "code",
   "execution_count": null,
   "id": "saved-oasis",
   "metadata": {},
   "outputs": [],
   "source": []
  }
 ],
 "metadata": {
  "kernelspec": {
   "display_name": "Python 3",
   "language": "python",
   "name": "python3"
  },
  "language_info": {
   "codemirror_mode": {
    "name": "ipython",
    "version": 3
   },
   "file_extension": ".py",
   "mimetype": "text/x-python",
   "name": "python",
   "nbconvert_exporter": "python",
   "pygments_lexer": "ipython3",
   "version": "3.6.10"
  }
 },
 "nbformat": 4,
 "nbformat_minor": 5
}
